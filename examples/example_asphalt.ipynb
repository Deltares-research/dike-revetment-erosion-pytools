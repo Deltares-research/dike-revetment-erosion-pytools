{
 "cells": [
  {
   "cell_type": "markdown",
   "metadata": {},
   "source": [
    "This example shows how to run Dikernel for Asphalt revetment with pydrever. In this example, all input parameters can be adjusted.\n",
    "\n",
    "### Import necessary packages"
   ]
  },
  {
   "cell_type": "code",
   "execution_count": null,
   "metadata": {},
   "outputs": [],
   "source": [
    "import pydrever.data as data\n",
    "from pydrever.calculation import Dikernel\n",
    "from pydrever.data import AsphaltCalculationSettings, AsphaltTopLayerSettings\n",
    "import numpy as np"
   ]
  },
  {
   "cell_type": "markdown",
   "metadata": {},
   "source": [
    "### Define hydrodynamic conditions\n",
    "This includes time steps, water levels, wave height, wave periods and wave directions."
   ]
  },
  {
   "cell_type": "code",
   "execution_count": null,
   "metadata": {},
   "outputs": [],
   "source": [
    "time_steps = [0.0, 25000.0, 50000.0, 75000.0, 100000.0, 126000.0] \n",
    "water_levels = [1.2, 1.9, 2.8, 2.7, 2.0] \n",
    "wave_heights = [0.5, 0.9, 1.2, 1.1, 0.8] \n",
    "wave_periods = [6.0, 6.0, 6.0, 6.0, 6.0] \n",
    "wave_directions = [60.0, 70.0, 80.0, 90.0, 100.0] \n",
    "\n",
    "hydrodynamic_conditions = data.HydrodynamicConditions(\n",
    "    time_steps, water_levels, wave_heights, wave_periods, wave_directions)\n"
   ]
  },
  {
   "cell_type": "markdown",
   "metadata": {},
   "source": [
    "### Define dike schematization\n",
    "This includes definition of the x, z coordinates of a dike profile, profile orientation and definition of the x coordinates of the outer toe and outer crest.\n",
    "\n",
    "In this example also the roughness coefficients are provided, these are however not used for the asphalt revetments."
   ]
  },
  {
   "cell_type": "code",
   "execution_count": null,
   "metadata": {},
   "outputs": [],
   "source": [
    "x_positions = [0.0, 25.0, 35.0, 41.0, 45, 50, 60, 70] \n",
    "z_positions = [-3, 0.0, 1.5, 1.7, 3.0, 3.1, 0, -1] \n",
    "roughnesses = [1, 1, 0.75, 0.5, 0.8, 0.8, 0.8]\n",
    "\n",
    "dike_orientation = 90.0 \n",
    "x_outer_toe = 25.0 \n",
    "x_outer_crest = 45.0 \n",
    "\n",
    "dike_schematization = data.DikeSchematization(\n",
    "    dike_orientation, x_positions, z_positions, roughnesses, x_outer_toe, x_outer_crest)\n"
   ]
  },
  {
   "cell_type": "markdown",
   "metadata": {},
   "source": [
    "### Define input object\n",
    "In this step the input object consists of the hydrodynamic conditions and dike schematization. In one of the following steps, the object will be extended with calculation settings."
   ]
  },
  {
   "cell_type": "code",
   "execution_count": null,
   "metadata": {},
   "outputs": [],
   "source": [
    "input = data.DikernelInput(hydrodynamic_conditions, dike_schematization)"
   ]
  },
  {
   "cell_type": "markdown",
   "metadata": {},
   "source": [
    "### Define output locations\n",
    "Here the output locations are defined as a vector starting at x_begin_asphalt and ending at x_end_asphalt (with step step_asphalt)."
   ]
  },
  {
   "cell_type": "code",
   "execution_count": null,
   "metadata": {},
   "outputs": [],
   "source": [
    "x_begin_asphalt = 40.0\n",
    "x_end_asphalt = 44.0\n",
    "step_asphalt = 0.01\n",
    "\n",
    "output_locations = np.arange(x_begin_asphalt,x_end_asphalt,step_asphalt)"
   ]
  },
  {
   "cell_type": "markdown",
   "metadata": {},
   "source": [
    "### Define asphalt settings\n",
    "Here the settings regarding the asphalt revetment are defined and the input object is extended with these settings."
   ]
  },
  {
   "cell_type": "code",
   "execution_count": null,
   "metadata": {},
   "outputs": [],
   "source": [
    "flexural_strength = 0.9\n",
    "soil_elasticity = 64.0\n",
    "upper_layer_thickness = 0.146\n",
    "upper_layer_stiffness_modulus = 5712.0\n",
    "\n",
    "def get_asphalt_calculation_settings() -> AsphaltCalculationSettings:\n",
    "    toplayerSettings = AsphaltTopLayerSettings()\n",
    "    toplayerSettings.stiffness_ratio_nu = 0.35\n",
    "    toplayerSettings.fatigue_asphalt_alpha = 0.5\n",
    "    toplayerSettings.fatigue_asphalt_beta = 5.4\n",
    "\n",
    "    settings = AsphaltCalculationSettings([toplayerSettings])\n",
    "    settings.density_of_water = 1000.0\n",
    "    settings.factor_ctm = 1.0\n",
    "    settings.impact_number_c = 1.0\n",
    "    settings.width_factors = [\n",
    "        [0.1, 0.0392],\n",
    "        [0.2, 0.0738],\n",
    "        [0.3, 0.1002],\n",
    "        [0.4, 0.1162],\n",
    "        [0.5, 0.1213],\n",
    "        [0.6, 0.1168],\n",
    "        [0.7, 0.1051],\n",
    "        [0.8, 0.089],\n",
    "        [0.9, 0.0712],\n",
    "        [1.0, 0.0541],\n",
    "        [1.1, 0.0391],\n",
    "        [1.2, 0.0269],\n",
    "        [1.3, 0.0216],\n",
    "        [1.4, 0.015],\n",
    "        [1.5, 0.0105],\n",
    "    ]\n",
    "    settings.depth_factors = [\n",
    "        [-1.0, 0.005040816326530646],\n",
    "        [-0.9744897959183674, 0.00596482278562177],\n",
    "        [-0.9489795918367347, 0.007049651822326582],\n",
    "        [-0.923469387755102, 0.008280657034496978],\n",
    "        [-0.8979591836734694, 0.009643192019984783],\n",
    "        [-0.8724489795918368, 0.011122610376641823],\n",
    "        [-0.846938775510204, 0.012704265702320014],\n",
    "        [-0.8214285714285714, 0.014373511594871225],\n",
    "        [-0.7959183673469388, 0.016115701652147284],\n",
    "        [-0.7704081632653061, 0.017916189471999994],\n",
    "        [-0.7448979591836735, 0.019760328652281334],\n",
    "        [-0.7193877551020409, 0.02163347279084307],\n",
    "        [-0.6938775510204082, 0.02352097548553716],\n",
    "        [-0.6683673469387754, 0.025408190334215378],\n",
    "        [-0.6428571428571429, 0.027280470934729583],\n",
    "        [-0.6173469387755102, 0.029123170884931715],\n",
    "        [-0.5918367346938775, 0.030921643782673508],\n",
    "        [-0.5663265306122449, 0.03266124322580695],\n",
    "        [-0.5408163265306123, 0.034327322812183814],\n",
    "        [-0.5153061224489797, 0.03590523613965599],\n",
    "        [-0.4897959183673469, 0.036419783440920166],\n",
    "        [-0.4642857142857143, 0.03634372210983519],\n",
    "        [-0.4387755102040817, 0.03603984556448696],\n",
    "        [-0.41326530612244894, 0.0355249692161967],\n",
    "        [-0.3877551020408163, 0.03481590847628564],\n",
    "        [-0.3622448979591837, 0.033929478756075014],\n",
    "        [-0.33673469387755095, 0.032882495466886014],\n",
    "        [-0.31122448979591844, 0.03169177402003989],\n",
    "        [-0.2857142857142858, 0.03037412982685786],\n",
    "        [-0.2602040816326531, 0.028946378298661132],\n",
    "        [-0.23469387755102034, 0.02742533484677094],\n",
    "        [-0.2091836734693877, 0.02582781488250851],\n",
    "        [-0.1836734693877552, 0.024170633817195083],\n",
    "        [-0.15816326530612246, 0.022470607062151843],\n",
    "        [-0.13265306122448983, 0.02074455002870004],\n",
    "        [-0.1071428571428571, 0.019009278128160882],\n",
    "        [-0.08163265306122447, 0.01728160677185561],\n",
    "        [-0.056122448979591955, 0.015578351371105446],\n",
    "        [-0.030612244897959218, 0.01391632733723159],\n",
    "        [-0.005102040816326481, 0.012312350081555283],\n",
    "        [0.020408163265306145, 0.010783235015397755],\n",
    "        [0.04591836734693877, 0.00934579755008022],\n",
    "        [0.0714285714285714, 0.008016853096923902],\n",
    "        [0.09693877551020402, 0.006813217067250026],\n",
    "        [0.12244897959183665, 0.005751704872379814],\n",
    "        [0.1479591836734695, 0.004849131923634483],\n",
    "        [0.17346938775510212, 0.004122313632335269],\n",
    "        [0.19897959183673475, 0.0035880654098033892],\n",
    "        [0.22448979591836737, 0.003263202667360069],\n",
    "        [0.25, 0.0031645408163265307],\n",
    "    ]\n",
    "    settings.impact_factors = [\n",
    "        [2.0, 0.039],\n",
    "        [2.4, 0.1],\n",
    "        [2.8, 0.18],\n",
    "        [3.2, 0.235],\n",
    "        [3.6, 0.2],\n",
    "        [4.0, 0.13],\n",
    "        [4.4, 0.08],\n",
    "        [4.8, 0.02],\n",
    "        [5.2, 0.01],\n",
    "        [5.6, 0.005],\n",
    "        [6.0, 0.001],\n",
    "    ]\n",
    "\n",
    "    return settings\n",
    "\n",
    "for x_location in output_locations:\n",
    "    input.add_output_location(x_location, data.AsphaltLayerSpecification(flexural_strength,\n",
    "                                                soil_elasticity,\n",
    "                                                upper_layer_thickness,\n",
    "                                                upper_layer_stiffness_modulus))\n",
    "\n",
    "input.settings = [get_asphalt_calculation_settings()]"
   ]
  },
  {
   "cell_type": "markdown",
   "metadata": {},
   "source": [
    "### Set up Dikernel object"
   ]
  },
  {
   "cell_type": "code",
   "execution_count": null,
   "metadata": {},
   "outputs": [],
   "source": [
    "kernel = Dikernel(input)"
   ]
  },
  {
   "cell_type": "markdown",
   "metadata": {},
   "source": [
    "### Run calculations with Dikernel"
   ]
  },
  {
   "cell_type": "code",
   "execution_count": null,
   "metadata": {},
   "outputs": [],
   "source": [
    "runresult = kernel.run()"
   ]
  },
  {
   "cell_type": "markdown",
   "metadata": {},
   "source": [
    "### Read the results"
   ]
  },
  {
   "cell_type": "code",
   "execution_count": null,
   "metadata": {},
   "outputs": [],
   "source": [
    "output = kernel.output\n",
    "\n",
    "final_damage = [output[i].final_damage for i in range(0, len(output))]\n",
    "computational_thickness = [output[i].computational_thickness for i in range(0, len(output))]\n",
    "equivalent_elastic_modulus = [output[i].equivalent_elastic_modulus for i in range(0, len(output))]\n",
    "log_flexural_strength = [output[i].log_flexural_strength for i in range(0, len(output))]\n",
    "outer_slope = [output[i].outer_slope for i in range(0, len(output))]\n",
    "stiffness_relation = [output[i].stiffness_relation for i in range(0, len(output))]\n",
    "z_position = [output[i].z_position for i in range(0, len(output))]\n",
    "\n",
    "print(final_damage)"
   ]
  }
 ],
 "metadata": {
  "kernelspec": {
   "display_name": "dikernel",
   "language": "python",
   "name": "python3"
  },
  "language_info": {
   "codemirror_mode": {
    "name": "ipython",
    "version": 3
   },
   "file_extension": ".py",
   "mimetype": "text/x-python",
   "name": "python",
   "nbconvert_exporter": "python",
   "pygments_lexer": "ipython3",
   "version": "3.11.7"
  }
 },
 "nbformat": 4,
 "nbformat_minor": 2
}
